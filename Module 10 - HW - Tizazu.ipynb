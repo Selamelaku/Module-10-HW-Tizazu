{
 "cells": [
  {
   "cell_type": "markdown",
   "id": "6e148156",
   "metadata": {},
   "source": [
    "# { Module 10 Homework }"
   ]
  },
  {
   "cell_type": "markdown",
   "id": "736faa7d",
   "metadata": {},
   "source": [
    "1. Import the \"babies.xlsx\" dataset. See below for information on the columns:\n",
    "\n",
    "    * bwt - birth weight of newborn baby\n",
    "    * gestation\t- gestation length (weeks)\n",
    "    * parity - previously pregnant (0 = no; 1 = yes)\n",
    "    * age - age of mother\n",
    "    * height - height of mother (inches)\t\n",
    "    * weight - weight of mother (pounds)\n",
    "    * smoke - smoking status of mother (0 = nonsmoker; 1 = smoker)"
   ]
  },
  {
   "cell_type": "code",
   "execution_count": 58,
   "id": "ac6ef2f4",
   "metadata": {},
   "outputs": [],
   "source": [
    "import pandas as pd\n",
    "import numpy as np\n",
    "import scipy.stats as stats"
   ]
  },
  {
   "cell_type": "code",
   "execution_count": 59,
   "id": "7df1fa27",
   "metadata": {},
   "outputs": [],
   "source": [
    "df = pd.read_excel(\"babies.xlsx\")\n"
   ]
  },
  {
   "cell_type": "code",
   "execution_count": 60,
   "id": "1c6f2e49",
   "metadata": {},
   "outputs": [
    {
     "data": {
      "text/html": [
       "<div>\n",
       "<style scoped>\n",
       "    .dataframe tbody tr th:only-of-type {\n",
       "        vertical-align: middle;\n",
       "    }\n",
       "\n",
       "    .dataframe tbody tr th {\n",
       "        vertical-align: top;\n",
       "    }\n",
       "\n",
       "    .dataframe thead th {\n",
       "        text-align: right;\n",
       "    }\n",
       "</style>\n",
       "<table border=\"1\" class=\"dataframe\">\n",
       "  <thead>\n",
       "    <tr style=\"text-align: right;\">\n",
       "      <th></th>\n",
       "      <th>bwt</th>\n",
       "      <th>gestation</th>\n",
       "      <th>parity</th>\n",
       "      <th>age</th>\n",
       "      <th>height</th>\n",
       "      <th>weight</th>\n",
       "      <th>smoke</th>\n",
       "    </tr>\n",
       "  </thead>\n",
       "  <tbody>\n",
       "    <tr>\n",
       "      <th>0</th>\n",
       "      <td>120</td>\n",
       "      <td>284.0</td>\n",
       "      <td>0</td>\n",
       "      <td>27.0</td>\n",
       "      <td>62.0</td>\n",
       "      <td>100.0</td>\n",
       "      <td>0.0</td>\n",
       "    </tr>\n",
       "    <tr>\n",
       "      <th>1</th>\n",
       "      <td>113</td>\n",
       "      <td>282.0</td>\n",
       "      <td>0</td>\n",
       "      <td>33.0</td>\n",
       "      <td>64.0</td>\n",
       "      <td>135.0</td>\n",
       "      <td>0.0</td>\n",
       "    </tr>\n",
       "    <tr>\n",
       "      <th>2</th>\n",
       "      <td>128</td>\n",
       "      <td>279.0</td>\n",
       "      <td>0</td>\n",
       "      <td>28.0</td>\n",
       "      <td>64.0</td>\n",
       "      <td>77.0</td>\n",
       "      <td>1.0</td>\n",
       "    </tr>\n",
       "    <tr>\n",
       "      <th>3</th>\n",
       "      <td>123</td>\n",
       "      <td>NaN</td>\n",
       "      <td>0</td>\n",
       "      <td>36.0</td>\n",
       "      <td>69.0</td>\n",
       "      <td>190.0</td>\n",
       "      <td>0.0</td>\n",
       "    </tr>\n",
       "    <tr>\n",
       "      <th>4</th>\n",
       "      <td>108</td>\n",
       "      <td>282.0</td>\n",
       "      <td>0</td>\n",
       "      <td>23.0</td>\n",
       "      <td>67.0</td>\n",
       "      <td>125.0</td>\n",
       "      <td>1.0</td>\n",
       "    </tr>\n",
       "  </tbody>\n",
       "</table>\n",
       "</div>"
      ],
      "text/plain": [
       "   bwt  gestation  parity   age  height  weight  smoke\n",
       "0  120      284.0       0  27.0    62.0   100.0    0.0\n",
       "1  113      282.0       0  33.0    64.0   135.0    0.0\n",
       "2  128      279.0       0  28.0    64.0    77.0    1.0\n",
       "3  123        NaN       0  36.0    69.0   190.0    0.0\n",
       "4  108      282.0       0  23.0    67.0   125.0    1.0"
      ]
     },
     "execution_count": 60,
     "metadata": {},
     "output_type": "execute_result"
    }
   ],
   "source": [
    "df.head()"
   ]
  },
  {
   "cell_type": "markdown",
   "id": "e04bfa22",
   "metadata": {},
   "source": [
    "2. Preview the first few rows of the dataset. Complete the following checks for your dataset:\n",
    "\n",
    "    * output the summary information for the dataset, what types of variables make up this dataset?\n",
    "    * is there any missing data in this dataset?"
   ]
  },
  {
   "cell_type": "code",
   "execution_count": 61,
   "id": "d86263ee",
   "metadata": {},
   "outputs": [
    {
     "name": "stdout",
     "output_type": "stream",
     "text": [
      "<class 'pandas.core.frame.DataFrame'>\n",
      "RangeIndex: 1236 entries, 0 to 1235\n",
      "Data columns (total 7 columns):\n",
      " #   Column     Non-Null Count  Dtype  \n",
      "---  ------     --------------  -----  \n",
      " 0   bwt        1236 non-null   int64  \n",
      " 1   gestation  1223 non-null   float64\n",
      " 2   parity     1236 non-null   int64  \n",
      " 3   age        1234 non-null   float64\n",
      " 4   height     1214 non-null   float64\n",
      " 5   weight     1200 non-null   float64\n",
      " 6   smoke      1226 non-null   float64\n",
      "dtypes: float64(5), int64(2)\n",
      "memory usage: 67.7 KB\n"
     ]
    }
   ],
   "source": [
    "df.info()"
   ]
  },
  {
   "cell_type": "code",
   "execution_count": 62,
   "id": "94da4b1f",
   "metadata": {},
   "outputs": [
    {
     "data": {
      "text/plain": [
       "bwt           0\n",
       "gestation    13\n",
       "parity        0\n",
       "age           2\n",
       "height       22\n",
       "weight       36\n",
       "smoke        10\n",
       "dtype: int64"
      ]
     },
     "execution_count": 62,
     "metadata": {},
     "output_type": "execute_result"
    }
   ],
   "source": [
    "df.isnull().sum()"
   ]
  },
  {
   "cell_type": "code",
   "execution_count": 63,
   "id": "db11ec81",
   "metadata": {},
   "outputs": [
    {
     "data": {
      "text/html": [
       "<div>\n",
       "<style scoped>\n",
       "    .dataframe tbody tr th:only-of-type {\n",
       "        vertical-align: middle;\n",
       "    }\n",
       "\n",
       "    .dataframe tbody tr th {\n",
       "        vertical-align: top;\n",
       "    }\n",
       "\n",
       "    .dataframe thead th {\n",
       "        text-align: right;\n",
       "    }\n",
       "</style>\n",
       "<table border=\"1\" class=\"dataframe\">\n",
       "  <thead>\n",
       "    <tr style=\"text-align: right;\">\n",
       "      <th></th>\n",
       "      <th>bwt</th>\n",
       "      <th>gestation</th>\n",
       "      <th>parity</th>\n",
       "      <th>age</th>\n",
       "      <th>height</th>\n",
       "      <th>weight</th>\n",
       "      <th>smoke</th>\n",
       "    </tr>\n",
       "  </thead>\n",
       "  <tbody>\n",
       "    <tr>\n",
       "      <th>3</th>\n",
       "      <td>123</td>\n",
       "      <td>NaN</td>\n",
       "      <td>0</td>\n",
       "      <td>36.0</td>\n",
       "      <td>69.0</td>\n",
       "      <td>190.0</td>\n",
       "      <td>0.0</td>\n",
       "    </tr>\n",
       "    <tr>\n",
       "      <th>39</th>\n",
       "      <td>128</td>\n",
       "      <td>282.0</td>\n",
       "      <td>0</td>\n",
       "      <td>31.0</td>\n",
       "      <td>65.0</td>\n",
       "      <td>NaN</td>\n",
       "      <td>0.0</td>\n",
       "    </tr>\n",
       "    <tr>\n",
       "      <th>42</th>\n",
       "      <td>138</td>\n",
       "      <td>302.0</td>\n",
       "      <td>0</td>\n",
       "      <td>26.0</td>\n",
       "      <td>NaN</td>\n",
       "      <td>NaN</td>\n",
       "      <td>1.0</td>\n",
       "    </tr>\n",
       "    <tr>\n",
       "      <th>85</th>\n",
       "      <td>129</td>\n",
       "      <td>274.0</td>\n",
       "      <td>0</td>\n",
       "      <td>29.0</td>\n",
       "      <td>71.0</td>\n",
       "      <td>NaN</td>\n",
       "      <td>1.0</td>\n",
       "    </tr>\n",
       "    <tr>\n",
       "      <th>89</th>\n",
       "      <td>114</td>\n",
       "      <td>NaN</td>\n",
       "      <td>0</td>\n",
       "      <td>24.0</td>\n",
       "      <td>67.0</td>\n",
       "      <td>113.0</td>\n",
       "      <td>1.0</td>\n",
       "    </tr>\n",
       "    <tr>\n",
       "      <th>...</th>\n",
       "      <td>...</td>\n",
       "      <td>...</td>\n",
       "      <td>...</td>\n",
       "      <td>...</td>\n",
       "      <td>...</td>\n",
       "      <td>...</td>\n",
       "      <td>...</td>\n",
       "    </tr>\n",
       "    <tr>\n",
       "      <th>1044</th>\n",
       "      <td>117</td>\n",
       "      <td>323.0</td>\n",
       "      <td>0</td>\n",
       "      <td>26.0</td>\n",
       "      <td>62.0</td>\n",
       "      <td>NaN</td>\n",
       "      <td>0.0</td>\n",
       "    </tr>\n",
       "    <tr>\n",
       "      <th>1177</th>\n",
       "      <td>146</td>\n",
       "      <td>305.0</td>\n",
       "      <td>0</td>\n",
       "      <td>23.0</td>\n",
       "      <td>NaN</td>\n",
       "      <td>NaN</td>\n",
       "      <td>0.0</td>\n",
       "    </tr>\n",
       "    <tr>\n",
       "      <th>1190</th>\n",
       "      <td>104</td>\n",
       "      <td>275.0</td>\n",
       "      <td>0</td>\n",
       "      <td>24.0</td>\n",
       "      <td>NaN</td>\n",
       "      <td>NaN</td>\n",
       "      <td>0.0</td>\n",
       "    </tr>\n",
       "    <tr>\n",
       "      <th>1192</th>\n",
       "      <td>124</td>\n",
       "      <td>NaN</td>\n",
       "      <td>1</td>\n",
       "      <td>39.0</td>\n",
       "      <td>65.0</td>\n",
       "      <td>228.0</td>\n",
       "      <td>0.0</td>\n",
       "    </tr>\n",
       "    <tr>\n",
       "      <th>1215</th>\n",
       "      <td>152</td>\n",
       "      <td>267.0</td>\n",
       "      <td>0</td>\n",
       "      <td>28.0</td>\n",
       "      <td>NaN</td>\n",
       "      <td>119.0</td>\n",
       "      <td>1.0</td>\n",
       "    </tr>\n",
       "  </tbody>\n",
       "</table>\n",
       "<p>62 rows × 7 columns</p>\n",
       "</div>"
      ],
      "text/plain": [
       "      bwt  gestation  parity   age  height  weight  smoke\n",
       "3     123        NaN       0  36.0    69.0   190.0    0.0\n",
       "39    128      282.0       0  31.0    65.0     NaN    0.0\n",
       "42    138      302.0       0  26.0     NaN     NaN    1.0\n",
       "85    129      274.0       0  29.0    71.0     NaN    1.0\n",
       "89    114        NaN       0  24.0    67.0   113.0    1.0\n",
       "...   ...        ...     ...   ...     ...     ...    ...\n",
       "1044  117      323.0       0  26.0    62.0     NaN    0.0\n",
       "1177  146      305.0       0  23.0     NaN     NaN    0.0\n",
       "1190  104      275.0       0  24.0     NaN     NaN    0.0\n",
       "1192  124        NaN       1  39.0    65.0   228.0    0.0\n",
       "1215  152      267.0       0  28.0     NaN   119.0    1.0\n",
       "\n",
       "[62 rows x 7 columns]"
      ]
     },
     "execution_count": 63,
     "metadata": {},
     "output_type": "execute_result"
    }
   ],
   "source": [
    "df.loc[df.isnull().any(axis = 1)]"
   ]
  },
  {
   "cell_type": "markdown",
   "id": "f2a9f160",
   "metadata": {},
   "source": [
    "3. Handle the missing data in the dataset -- there isn't much, so we can drop all the rows that have at least one missing value. How many rows were dropped from the dataset?"
   ]
  },
  {
   "cell_type": "code",
   "execution_count": 64,
   "id": "9b362c54",
   "metadata": {},
   "outputs": [
    {
     "name": "stdout",
     "output_type": "stream",
     "text": [
      "original shape: (1236, 7)\n"
     ]
    }
   ],
   "source": [
    "print (\"original shape:\", df.shape)\n",
    "\n",
    "df.dropna(inplace = True)"
   ]
  },
  {
   "cell_type": "markdown",
   "id": "562e6e31",
   "metadata": {},
   "source": [
    "4. There are two qualitative variables in this dataset. What are they? How do you know they are qualitative variables?"
   ]
  },
  {
   "cell_type": "code",
   "execution_count": 65,
   "id": "d52b1b11",
   "metadata": {},
   "outputs": [
    {
     "data": {
      "text/html": [
       "<div>\n",
       "<style scoped>\n",
       "    .dataframe tbody tr th:only-of-type {\n",
       "        vertical-align: middle;\n",
       "    }\n",
       "\n",
       "    .dataframe tbody tr th {\n",
       "        vertical-align: top;\n",
       "    }\n",
       "\n",
       "    .dataframe thead th {\n",
       "        text-align: right;\n",
       "    }\n",
       "</style>\n",
       "<table border=\"1\" class=\"dataframe\">\n",
       "  <thead>\n",
       "    <tr style=\"text-align: right;\">\n",
       "      <th></th>\n",
       "      <th>bwt</th>\n",
       "      <th>gestation</th>\n",
       "      <th>parity</th>\n",
       "      <th>age</th>\n",
       "      <th>height</th>\n",
       "      <th>weight</th>\n",
       "      <th>smoke</th>\n",
       "    </tr>\n",
       "  </thead>\n",
       "  <tbody>\n",
       "    <tr>\n",
       "      <th>0</th>\n",
       "      <td>120</td>\n",
       "      <td>284.0</td>\n",
       "      <td>0</td>\n",
       "      <td>27.0</td>\n",
       "      <td>62.0</td>\n",
       "      <td>100.0</td>\n",
       "      <td>0.0</td>\n",
       "    </tr>\n",
       "    <tr>\n",
       "      <th>1</th>\n",
       "      <td>113</td>\n",
       "      <td>282.0</td>\n",
       "      <td>0</td>\n",
       "      <td>33.0</td>\n",
       "      <td>64.0</td>\n",
       "      <td>135.0</td>\n",
       "      <td>0.0</td>\n",
       "    </tr>\n",
       "    <tr>\n",
       "      <th>2</th>\n",
       "      <td>128</td>\n",
       "      <td>279.0</td>\n",
       "      <td>0</td>\n",
       "      <td>28.0</td>\n",
       "      <td>64.0</td>\n",
       "      <td>77.0</td>\n",
       "      <td>1.0</td>\n",
       "    </tr>\n",
       "    <tr>\n",
       "      <th>4</th>\n",
       "      <td>108</td>\n",
       "      <td>282.0</td>\n",
       "      <td>0</td>\n",
       "      <td>23.0</td>\n",
       "      <td>67.0</td>\n",
       "      <td>125.0</td>\n",
       "      <td>1.0</td>\n",
       "    </tr>\n",
       "    <tr>\n",
       "      <th>5</th>\n",
       "      <td>136</td>\n",
       "      <td>286.0</td>\n",
       "      <td>0</td>\n",
       "      <td>25.0</td>\n",
       "      <td>62.0</td>\n",
       "      <td>93.0</td>\n",
       "      <td>0.0</td>\n",
       "    </tr>\n",
       "  </tbody>\n",
       "</table>\n",
       "</div>"
      ],
      "text/plain": [
       "   bwt  gestation  parity   age  height  weight  smoke\n",
       "0  120      284.0       0  27.0    62.0   100.0    0.0\n",
       "1  113      282.0       0  33.0    64.0   135.0    0.0\n",
       "2  128      279.0       0  28.0    64.0    77.0    1.0\n",
       "4  108      282.0       0  23.0    67.0   125.0    1.0\n",
       "5  136      286.0       0  25.0    62.0    93.0    0.0"
      ]
     },
     "execution_count": 65,
     "metadata": {},
     "output_type": "execute_result"
    }
   ],
   "source": [
    "df.head()"
   ]
  },
  {
   "cell_type": "code",
   "execution_count": 66,
   "id": "29450a51",
   "metadata": {},
   "outputs": [
    {
     "data": {
      "text/html": [
       "<div>\n",
       "<style scoped>\n",
       "    .dataframe tbody tr th:only-of-type {\n",
       "        vertical-align: middle;\n",
       "    }\n",
       "\n",
       "    .dataframe tbody tr th {\n",
       "        vertical-align: top;\n",
       "    }\n",
       "\n",
       "    .dataframe thead th {\n",
       "        text-align: right;\n",
       "    }\n",
       "</style>\n",
       "<table border=\"1\" class=\"dataframe\">\n",
       "  <thead>\n",
       "    <tr style=\"text-align: right;\">\n",
       "      <th></th>\n",
       "      <th>bwt</th>\n",
       "      <th>gestation</th>\n",
       "      <th>parity</th>\n",
       "      <th>age</th>\n",
       "      <th>height</th>\n",
       "      <th>weight</th>\n",
       "      <th>smoke</th>\n",
       "    </tr>\n",
       "  </thead>\n",
       "  <tbody>\n",
       "    <tr>\n",
       "      <th>0</th>\n",
       "      <td>120</td>\n",
       "      <td>284.0</td>\n",
       "      <td>0</td>\n",
       "      <td>27.0</td>\n",
       "      <td>62.0</td>\n",
       "      <td>100.0</td>\n",
       "      <td>0.0</td>\n",
       "    </tr>\n",
       "    <tr>\n",
       "      <th>1</th>\n",
       "      <td>113</td>\n",
       "      <td>282.0</td>\n",
       "      <td>0</td>\n",
       "      <td>33.0</td>\n",
       "      <td>64.0</td>\n",
       "      <td>135.0</td>\n",
       "      <td>0.0</td>\n",
       "    </tr>\n",
       "    <tr>\n",
       "      <th>2</th>\n",
       "      <td>128</td>\n",
       "      <td>279.0</td>\n",
       "      <td>0</td>\n",
       "      <td>28.0</td>\n",
       "      <td>64.0</td>\n",
       "      <td>77.0</td>\n",
       "      <td>1.0</td>\n",
       "    </tr>\n",
       "    <tr>\n",
       "      <th>3</th>\n",
       "      <td>108</td>\n",
       "      <td>282.0</td>\n",
       "      <td>0</td>\n",
       "      <td>23.0</td>\n",
       "      <td>67.0</td>\n",
       "      <td>125.0</td>\n",
       "      <td>1.0</td>\n",
       "    </tr>\n",
       "    <tr>\n",
       "      <th>4</th>\n",
       "      <td>136</td>\n",
       "      <td>286.0</td>\n",
       "      <td>0</td>\n",
       "      <td>25.0</td>\n",
       "      <td>62.0</td>\n",
       "      <td>93.0</td>\n",
       "      <td>0.0</td>\n",
       "    </tr>\n",
       "  </tbody>\n",
       "</table>\n",
       "</div>"
      ],
      "text/plain": [
       "   bwt  gestation  parity   age  height  weight  smoke\n",
       "0  120      284.0       0  27.0    62.0   100.0    0.0\n",
       "1  113      282.0       0  33.0    64.0   135.0    0.0\n",
       "2  128      279.0       0  28.0    64.0    77.0    1.0\n",
       "3  108      282.0       0  23.0    67.0   125.0    1.0\n",
       "4  136      286.0       0  25.0    62.0    93.0    0.0"
      ]
     },
     "execution_count": 66,
     "metadata": {},
     "output_type": "execute_result"
    }
   ],
   "source": [
    "df.reset_index (drop=True,inplace = True)\n",
    "               \n",
    "df.head()"
   ]
  },
  {
   "cell_type": "code",
   "execution_count": 67,
   "id": "40d59831",
   "metadata": {},
   "outputs": [
    {
     "ename": "NameError",
     "evalue": "name 'parity' is not defined",
     "output_type": "error",
     "traceback": [
      "\u001b[1;31m---------------------------------------------------------------------------\u001b[0m",
      "\u001b[1;31mNameError\u001b[0m                                 Traceback (most recent call last)",
      "\u001b[1;32m<ipython-input-67-0f7dd249f673>\u001b[0m in \u001b[0;36m<module>\u001b[1;34m\u001b[0m\n\u001b[1;32m----> 1\u001b[1;33m \u001b[0mparity\u001b[0m\u001b[1;33m,\u001b[0m \u001b[0msmoke\u001b[0m\u001b[1;33m\u001b[0m\u001b[1;33m\u001b[0m\u001b[0m\n\u001b[0m",
      "\u001b[1;31mNameError\u001b[0m: name 'parity' is not defined"
     ]
    }
   ],
   "source": [
    "parity, smoke"
   ]
  },
  {
   "cell_type": "markdown",
   "id": "eaee4ec8",
   "metadata": {},
   "source": [
    "5. Replace the values in the qualitative variables with meaningful labels that describe the different groups. Use any method you've learned in previous modules to complete this task. "
   ]
  },
  {
   "cell_type": "code",
   "execution_count": 68,
   "id": "3e8abc37",
   "metadata": {},
   "outputs": [],
   "source": [
    "df['parity'].replace([0,1], [\"currentPregnancy\", \"previouspregnancy\"], inplace = True)"
   ]
  },
  {
   "cell_type": "code",
   "execution_count": null,
   "id": "dfc28b2b",
   "metadata": {},
   "outputs": [],
   "source": [
    "df['smoke'].replace([0,1], [\"Nonsmoker\", \"Smoker\"], inplace = True)"
   ]
  },
  {
   "cell_type": "code",
   "execution_count": 70,
   "id": "fbb651a8",
   "metadata": {},
   "outputs": [
    {
     "data": {
      "text/html": [
       "<div>\n",
       "<style scoped>\n",
       "    .dataframe tbody tr th:only-of-type {\n",
       "        vertical-align: middle;\n",
       "    }\n",
       "\n",
       "    .dataframe tbody tr th {\n",
       "        vertical-align: top;\n",
       "    }\n",
       "\n",
       "    .dataframe thead th {\n",
       "        text-align: right;\n",
       "    }\n",
       "</style>\n",
       "<table border=\"1\" class=\"dataframe\">\n",
       "  <thead>\n",
       "    <tr style=\"text-align: right;\">\n",
       "      <th></th>\n",
       "      <th>bwt</th>\n",
       "      <th>gestation</th>\n",
       "      <th>parity</th>\n",
       "      <th>age</th>\n",
       "      <th>height</th>\n",
       "      <th>weight</th>\n",
       "      <th>smoke</th>\n",
       "    </tr>\n",
       "  </thead>\n",
       "  <tbody>\n",
       "    <tr>\n",
       "      <th>0</th>\n",
       "      <td>120</td>\n",
       "      <td>284.0</td>\n",
       "      <td>currentPregnancy</td>\n",
       "      <td>27.0</td>\n",
       "      <td>62.0</td>\n",
       "      <td>100.0</td>\n",
       "      <td>Nonsmoker</td>\n",
       "    </tr>\n",
       "    <tr>\n",
       "      <th>1</th>\n",
       "      <td>113</td>\n",
       "      <td>282.0</td>\n",
       "      <td>currentPregnancy</td>\n",
       "      <td>33.0</td>\n",
       "      <td>64.0</td>\n",
       "      <td>135.0</td>\n",
       "      <td>Nonsmoker</td>\n",
       "    </tr>\n",
       "    <tr>\n",
       "      <th>2</th>\n",
       "      <td>128</td>\n",
       "      <td>279.0</td>\n",
       "      <td>currentPregnancy</td>\n",
       "      <td>28.0</td>\n",
       "      <td>64.0</td>\n",
       "      <td>77.0</td>\n",
       "      <td>Smoker</td>\n",
       "    </tr>\n",
       "    <tr>\n",
       "      <th>3</th>\n",
       "      <td>108</td>\n",
       "      <td>282.0</td>\n",
       "      <td>currentPregnancy</td>\n",
       "      <td>23.0</td>\n",
       "      <td>67.0</td>\n",
       "      <td>125.0</td>\n",
       "      <td>Smoker</td>\n",
       "    </tr>\n",
       "    <tr>\n",
       "      <th>4</th>\n",
       "      <td>136</td>\n",
       "      <td>286.0</td>\n",
       "      <td>currentPregnancy</td>\n",
       "      <td>25.0</td>\n",
       "      <td>62.0</td>\n",
       "      <td>93.0</td>\n",
       "      <td>Nonsmoker</td>\n",
       "    </tr>\n",
       "  </tbody>\n",
       "</table>\n",
       "</div>"
      ],
      "text/plain": [
       "   bwt  gestation            parity   age  height  weight      smoke\n",
       "0  120      284.0  currentPregnancy  27.0    62.0   100.0  Nonsmoker\n",
       "1  113      282.0  currentPregnancy  33.0    64.0   135.0  Nonsmoker\n",
       "2  128      279.0  currentPregnancy  28.0    64.0    77.0     Smoker\n",
       "3  108      282.0  currentPregnancy  23.0    67.0   125.0     Smoker\n",
       "4  136      286.0  currentPregnancy  25.0    62.0    93.0  Nonsmoker"
      ]
     },
     "execution_count": 70,
     "metadata": {},
     "output_type": "execute_result"
    }
   ],
   "source": [
    "df.head()"
   ]
  },
  {
   "cell_type": "markdown",
   "id": "6974eb82",
   "metadata": {},
   "source": [
    "## DO NOT DO YET \n",
    "\n",
    "6. Before we move forward with any statistics, let's identify and remove any outliers from the dataset. Using the IQR method, search for outliers in the 5 numeric variables. This will take some time and organization, be careful with your code! Make sure you keep track of how many rows/outliers are removed. "
   ]
  },
  {
   "cell_type": "markdown",
   "id": "92b59a17",
   "metadata": {},
   "source": [
    "7. Describe the characteristics of your qualitative variables by doing the following:\n",
    "\n",
    "    * Determine the frequencies of each group within each categorical variable. Which groups have the highest frequency?\n",
    "    * Determine the relative frequencies of each group within each categorical variable. Which groups have the highest relative frequencies?\n",
    "    * Create a crosstab table using both the categorical variables in your dataset. How many mothers are smokers who have been pregnant before?"
   ]
  },
  {
   "cell_type": "code",
   "execution_count": 73,
   "id": "371d5497",
   "metadata": {},
   "outputs": [
    {
     "data": {
      "text/plain": [
       "Nonsmoker    715\n",
       "Smoker       459\n",
       "Name: smoke, dtype: int64"
      ]
     },
     "execution_count": 73,
     "metadata": {},
     "output_type": "execute_result"
    }
   ],
   "source": [
    "df[\"smoke\"].value_counts()"
   ]
  },
  {
   "cell_type": "code",
   "execution_count": 75,
   "id": "68fee61d",
   "metadata": {},
   "outputs": [
    {
     "data": {
      "text/plain": [
       "Nonsmoker    0.609029\n",
       "Smoker       0.390971\n",
       "Name: smoke, dtype: float64"
      ]
     },
     "execution_count": 75,
     "metadata": {},
     "output_type": "execute_result"
    }
   ],
   "source": [
    "df[\"smoke\"].value_counts (normalize=True)"
   ]
  },
  {
   "cell_type": "code",
   "execution_count": 77,
   "id": "f2b95ba1",
   "metadata": {},
   "outputs": [
    {
     "data": {
      "text/plain": [
       "currentPregnancy     866\n",
       "previouspregnancy    308\n",
       "Name: parity, dtype: int64"
      ]
     },
     "execution_count": 77,
     "metadata": {},
     "output_type": "execute_result"
    }
   ],
   "source": [
    "df[\"parity\"].value_counts()"
   ]
  },
  {
   "cell_type": "code",
   "execution_count": 78,
   "id": "369d07e5",
   "metadata": {
    "scrolled": true
   },
   "outputs": [
    {
     "data": {
      "text/plain": [
       "currentPregnancy     0.737649\n",
       "previouspregnancy    0.262351\n",
       "Name: parity, dtype: float64"
      ]
     },
     "execution_count": 78,
     "metadata": {},
     "output_type": "execute_result"
    }
   ],
   "source": [
    "df[\"parity\"].value_counts (normalize=True)"
   ]
  },
  {
   "cell_type": "code",
   "execution_count": 81,
   "id": "34b4c730",
   "metadata": {},
   "outputs": [
    {
     "data": {
      "text/html": [
       "<div>\n",
       "<style scoped>\n",
       "    .dataframe tbody tr th:only-of-type {\n",
       "        vertical-align: middle;\n",
       "    }\n",
       "\n",
       "    .dataframe tbody tr th {\n",
       "        vertical-align: top;\n",
       "    }\n",
       "\n",
       "    .dataframe thead th {\n",
       "        text-align: right;\n",
       "    }\n",
       "</style>\n",
       "<table border=\"1\" class=\"dataframe\">\n",
       "  <thead>\n",
       "    <tr style=\"text-align: right;\">\n",
       "      <th>parity</th>\n",
       "      <th>currentPregnancy</th>\n",
       "      <th>previouspregnancy</th>\n",
       "    </tr>\n",
       "    <tr>\n",
       "      <th>smoke</th>\n",
       "      <th></th>\n",
       "      <th></th>\n",
       "    </tr>\n",
       "  </thead>\n",
       "  <tbody>\n",
       "    <tr>\n",
       "      <th>Nonsmoker</th>\n",
       "      <td>525</td>\n",
       "      <td>190</td>\n",
       "    </tr>\n",
       "    <tr>\n",
       "      <th>Smoker</th>\n",
       "      <td>341</td>\n",
       "      <td>118</td>\n",
       "    </tr>\n",
       "  </tbody>\n",
       "</table>\n",
       "</div>"
      ],
      "text/plain": [
       "parity     currentPregnancy  previouspregnancy\n",
       "smoke                                         \n",
       "Nonsmoker               525                190\n",
       "Smoker                  341                118"
      ]
     },
     "execution_count": 81,
     "metadata": {},
     "output_type": "execute_result"
    }
   ],
   "source": [
    "pd.crosstab (df[\"smoke\"], df[\"parity\"])"
   ]
  },
  {
   "cell_type": "code",
   "execution_count": null,
   "id": "9179f2aa",
   "metadata": {},
   "outputs": [],
   "source": []
  },
  {
   "cell_type": "markdown",
   "id": "dfac25c7",
   "metadata": {},
   "source": [
    "8. Describe the Measures of Central Tendency (mean, median, mode) of the numeric variables in the dataset. Calculate the mean, median, and mode for all 5 numeric variables. For each median and mode, describe the following:\n",
    "\n",
    "    * What does the median value tell you about the data?\n",
    "    * What does the mode value tell you about the data?"
   ]
  },
  {
   "cell_type": "code",
   "execution_count": 84,
   "id": "209d7644",
   "metadata": {},
   "outputs": [
    {
     "name": "stdout",
     "output_type": "stream",
     "text": [
      "119.46252129471891\n",
      "120.0\n",
      "0    115\n",
      "dtype: int64\n"
     ]
    }
   ],
   "source": [
    "print(df[\"bwt\"].mean())\n",
    "print(df[\"bwt\"].median())\n",
    "print(df[\"bwt\"].mode())\n"
   ]
  },
  {
   "cell_type": "code",
   "execution_count": 85,
   "id": "0e45265c",
   "metadata": {},
   "outputs": [
    {
     "name": "stdout",
     "output_type": "stream",
     "text": [
      "279.1013628620102\n",
      "280.0\n",
      "0    282.0\n",
      "dtype: float64\n"
     ]
    }
   ],
   "source": [
    "print(df[\"gestation\"].mean())\n",
    "print(df[\"gestation\"].median())\n",
    "print(df[\"gestation\"].mode())\n"
   ]
  },
  {
   "cell_type": "code",
   "execution_count": 86,
   "id": "93aef7a9",
   "metadata": {},
   "outputs": [
    {
     "name": "stdout",
     "output_type": "stream",
     "text": [
      "27.228279386712096\n",
      "26.0\n",
      "0    23.0\n",
      "dtype: float64\n"
     ]
    }
   ],
   "source": [
    "print(df[\"age\"].mean())\n",
    "print(df[\"age\"].median())\n",
    "print(df[\"age\"].mode())\n"
   ]
  },
  {
   "cell_type": "code",
   "execution_count": 87,
   "id": "efc350cd",
   "metadata": {},
   "outputs": [
    {
     "name": "stdout",
     "output_type": "stream",
     "text": [
      "64.04940374787053\n",
      "64.0\n",
      "0    64.0\n",
      "dtype: float64\n"
     ]
    }
   ],
   "source": [
    "print(df[\"height\"].mean())\n",
    "print(df[\"height\"].median())\n",
    "print(df[\"height\"].mode())\n"
   ]
  },
  {
   "cell_type": "code",
   "execution_count": 88,
   "id": "e992aca2",
   "metadata": {},
   "outputs": [
    {
     "name": "stdout",
     "output_type": "stream",
     "text": [
      "131.32623509369677\n",
      "125.0\n",
      "0    130.0\n",
      "dtype: float64\n"
     ]
    }
   ],
   "source": [
    "print(df[\"weight\"].mean())\n",
    "print(df[\"weight\"].median())\n",
    "print(df[\"weight\"].mode())\n"
   ]
  },
  {
   "cell_type": "markdown",
   "id": "6238626d",
   "metadata": {},
   "source": [
    "9. Describe the Measures of Variability of the numeric variables in the dataset. Calculate the range, standard deviation, and 85th percentile for all 5 numeric variables. Answer the following questions:\n",
    "\n",
    "    * Which column has the largest range? Which has the smallest? What does this mean?\n",
    "    * Which column has the largest standard deviation? Which has the smallest? What does this tell you about those variables?"
   ]
  },
  {
   "cell_type": "code",
   "execution_count": 97,
   "id": "6c06a803",
   "metadata": {},
   "outputs": [
    {
     "name": "stdout",
     "output_type": "stream",
     "text": [
      "121\n",
      "18.32867144332098\n",
      "138.0\n"
     ]
    }
   ],
   "source": [
    "bwt_range = df[\"bwt\"].max() - df[\"bwt\"].min()\n",
    "bwt_std = df[\"bwt\"].std()\n",
    "bwt_85 = np.percentile(df[\"bwt\"],85)\n",
    "\n",
    "print (bwt_range)\n",
    "print (bwt_std)\n",
    "print (bwt_85)\n",
    "                         "
   ]
  },
  {
   "cell_type": "code",
   "execution_count": 98,
   "id": "79d5d8c4",
   "metadata": {},
   "outputs": [
    {
     "name": "stdout",
     "output_type": "stream",
     "text": [
      "205.0\n",
      "16.010305127129392\n",
      "292.0\n"
     ]
    }
   ],
   "source": [
    "gest_range = df[\"gestation\"].max() - df[\"gestation\"].min()\n",
    "gest_std = df[\"gestation\"].std()\n",
    "gest_85 = np.percentile(df[\"gestation\"],85)\n",
    "\n",
    "print (gest_range)\n",
    "print (gest_std)\n",
    "print (gest_85)\n",
    "                         "
   ]
  },
  {
   "cell_type": "code",
   "execution_count": 99,
   "id": "66f5bb7d",
   "metadata": {},
   "outputs": [
    {
     "name": "stdout",
     "output_type": "stream",
     "text": [
      "30.0\n",
      "5.817838716855792\n",
      "34.0\n"
     ]
    }
   ],
   "source": [
    "age_range = df[\"age\"].max() - df[\"age\"].min()\n",
    "age_std = df[\"age\"].std()\n",
    "age_85 = np.percentile(df[\"age\"],85)\n",
    "\n",
    "print (age_range)\n",
    "print (age_std)\n",
    "print (age_85)\n",
    "                    "
   ]
  },
  {
   "cell_type": "code",
   "execution_count": 101,
   "id": "0f89e8d7",
   "metadata": {},
   "outputs": [
    {
     "name": "stdout",
     "output_type": "stream",
     "text": [
      "19.0\n",
      "2.5261015226020365\n",
      "67.0\n"
     ]
    }
   ],
   "source": [
    "hgt_range = df[\"height\"].max() - df[\"height\"].min()\n",
    "hgt_std = df[\"height\"].std()\n",
    "hgt_85 = np.percentile(df[\"height\"],85)\n",
    "\n",
    "print (hgt_range)\n",
    "print (hgt_std)\n",
    "print (hgt_85)\n",
    "                    "
   ]
  },
  {
   "cell_type": "code",
   "execution_count": 102,
   "id": "1980a907",
   "metadata": {},
   "outputs": [
    {
     "name": "stdout",
     "output_type": "stream",
     "text": [
      "1473.0\n",
      "54.1038284756229\n",
      "148.0\n"
     ]
    }
   ],
   "source": [
    "wgt_range = df[\"weight\"].max() - df[\"weight\"].min()\n",
    "wgt_std = df[\"weight\"].std()\n",
    "wgt_85 = np.percentile(df[\"weight\"],85)\n",
    "\n",
    "print (wgt_range)\n",
    "print (wgt_std)\n",
    "print (wgt_85)"
   ]
  },
  {
   "cell_type": "code",
   "execution_count": null,
   "id": "4f4f2fd4",
   "metadata": {},
   "outputs": [],
   "source": []
  }
 ],
 "metadata": {
  "kernelspec": {
   "display_name": "Python 3",
   "language": "python",
   "name": "python3"
  },
  "language_info": {
   "codemirror_mode": {
    "name": "ipython",
    "version": 3
   },
   "file_extension": ".py",
   "mimetype": "text/x-python",
   "name": "python",
   "nbconvert_exporter": "python",
   "pygments_lexer": "ipython3",
   "version": "3.8.8"
  }
 },
 "nbformat": 4,
 "nbformat_minor": 5
}
